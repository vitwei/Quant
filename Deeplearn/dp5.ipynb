{
 "cells": [
  {
   "cell_type": "code",
   "execution_count": 1,
   "id": "f6abdeb2",
   "metadata": {},
   "outputs": [],
   "source": [
    "import pandas as pd\n",
    "import numpy as np\n",
    "import torch \n",
    "%matplotlib inline\n",
    "import math\n",
    "import scipy.stats\n",
    "import time\n",
    "import torch.utils.data as Data\n",
    "import torch.nn as nn\n",
    "import torch.nn.functional as F\n",
    "from torch.optim import SGD\n",
    "import matplotlib.pyplot as plt\n",
    "from sklearn.metrics import mean_squared_error,mean_absolute_error\n",
    "from sklearn.preprocessing import StandardScaler"
   ]
  },
  {
   "cell_type": "code",
   "execution_count": 2,
   "id": "88060f87",
   "metadata": {},
   "outputs": [],
   "source": [
    "class Timer:  #@save\n",
    "    \"\"\"记录多次运行时间\"\"\"\n",
    "    def __init__(self):\n",
    "        self.times = []\n",
    "        self.start()\n",
    "    def start(self):\n",
    "        \"\"\"启动计时器\"\"\"\n",
    "        self.tik = time.time()\n",
    "    def stop(self):\n",
    "        \"\"\"停止计时器并将时间记录在列表中\"\"\"\n",
    "        self.times.append(time.time() - self.tik)\n",
    "        return self.times[-1]\n",
    "    def avg(self):\n",
    "        \"\"\"返回平均时间\"\"\"\n",
    "        return sum(self.times) / len(self.times)\n",
    "    def sum(self):\n",
    "        \"\"\"返回时间总和\"\"\"\n",
    "        return sum(self.times)\n",
    "    def cumsum(self):\n",
    "        \"\"\"返回累计时间\"\"\"\n",
    "        return np.array(self.times).cumsum().tolist()"
   ]
  },
  {
   "cell_type": "code",
   "execution_count": 4,
   "id": "9cfd4ac2",
   "metadata": {},
   "outputs": [],
   "source": [
    "train=pd.read_feather('J:/quant_trade/train.feather')\n",
    "test=pd.read_feather('J:/quant_trade/test.feather')\n",
    "tlist=train.columns.tolist()\n",
    "tlist=tlist[4:104]"
   ]
  },
  {
   "cell_type": "code",
   "execution_count": 5,
   "id": "6a8c9e44",
   "metadata": {},
   "outputs": [],
   "source": [
    "x_train=train[tlist]\n",
    "y_train=train['1W']\n",
    "x_test=test[tlist]\n",
    "y_test=test['1W']"
   ]
  },
  {
   "cell_type": "code",
   "execution_count": 24,
   "id": "0c1b1be2",
   "metadata": {},
   "outputs": [
    {
     "data": {
      "text/plain": [
       "count    998429.000000\n",
       "mean          0.005463\n",
       "std           0.070965\n",
       "min          -0.643727\n",
       "25%          -0.032663\n",
       "50%           0.000000\n",
       "75%           0.035000\n",
       "max           1.488540\n",
       "Name: 1W, dtype: float64"
      ]
     },
     "execution_count": 24,
     "metadata": {},
     "output_type": "execute_result"
    }
   ],
   "source": [
    "y_test.describe()"
   ]
  },
  {
   "cell_type": "code",
   "execution_count": 5,
   "id": "746f995d",
   "metadata": {},
   "outputs": [],
   "source": [
    "scale=StandardScaler()\n",
    "x_train_s=scale.fit_transform(x_train)\n",
    "x_test_s=scale.fit_transform(x_test)"
   ]
  },
  {
   "cell_type": "code",
   "execution_count": 6,
   "id": "1c867e79",
   "metadata": {},
   "outputs": [],
   "source": [
    "train_xt=torch.from_numpy(x_train.values.astype(np.float32)).cuda()\n",
    "train_yt=torch.from_numpy(y_train.values.astype(np.float32)).cuda()\n",
    "test_xt=torch.from_numpy(x_test.values.astype(np.float32)).cuda()\n",
    "test_yt=torch.from_numpy(y_test.values.astype(np.float32)).cpu()"
   ]
  },
  {
   "cell_type": "code",
   "execution_count": 7,
   "id": "93f80a20",
   "metadata": {},
   "outputs": [],
   "source": [
    "train=None\n",
    "test=None\n",
    "x_train=None\n",
    "y_train=None\n",
    "x_test=None\n",
    "y_test=None"
   ]
  },
  {
   "cell_type": "code",
   "execution_count": 7,
   "id": "cb03d10f",
   "metadata": {},
   "outputs": [],
   "source": [
    "train_data=Data.TensorDataset(train_xt,train_yt)\n",
    "test_data=Data.TensorDataset(test_xt,test_yt)"
   ]
  },
  {
   "cell_type": "code",
   "execution_count": 25,
   "id": "6cc04eb2",
   "metadata": {},
   "outputs": [
    {
     "data": {
      "text/plain": [
       "<Figure size 1000x600 with 0 Axes>"
      ]
     },
     "execution_count": 25,
     "metadata": {},
     "output_type": "execute_result"
    },
    {
     "data": {
      "text/plain": [
       "<Figure size 1000x600 with 0 Axes>"
      ]
     },
     "metadata": {},
     "output_type": "display_data"
    }
   ],
   "source": [
    "class MLPrg(nn.Module):\n",
    "    def __init__(self):\n",
    "        super(MLPrg,self).__init__()\n",
    "        self.hidden1=nn.Linear(in_features=100,out_features=512,bias=True)\n",
    "        self.hidden2=nn.Linear(in_features=512,out_features=256)\n",
    "        self.hidden3=nn.Linear(in_features=256,out_features=128)\n",
    "        self.hidden4=nn.Linear(in_features=128,out_features=64)\n",
    "        self.predict=nn.Linear(64,1)\n",
    "    def forward(self,x):\n",
    "        x=F.tanh(self.hidden1(x))\n",
    "        x=F.tanh(self.hidden2(x))\n",
    "        x=F.tanh(self.hidden3(x))\n",
    "        x=F.tanh(self.hidden4(x))\n",
    "        output=self.predict(x)\n",
    "        return output[:,0]\n",
    "rg=MLPrg()\n",
    "rg=rg.cuda()\n",
    "loss_func=nn.L1Loss(reduction='mean')\n",
    "loss_func=loss_func.cuda()\n",
    "train_loss_all=[]\n",
    "maslist=[]\n",
    "plt.figure(figsize=(10,6))"
   ]
  },
  {
   "cell_type": "code",
   "execution_count": 26,
   "id": "acad464b",
   "metadata": {},
   "outputs": [],
   "source": [
    "train_loader=Data.DataLoader(dataset=train_data,batch_size=256,shuffle=True,num_workers=0)\n",
    "for step,(b_x,b_y) in enumerate(train_loader):\n",
    "    if step>0:\n",
    "        break"
   ]
  },
  {
   "cell_type": "code",
   "execution_count": 27,
   "id": "c1cabc23",
   "metadata": {},
   "outputs": [],
   "source": [
    "optimizer=torch.optim.Adam(rg.parameters(),lr=0.1)\n",
    "scheduler = torch.optim.lr_scheduler.StepLR(optimizer, step_size=3, gamma=0.1)"
   ]
  },
  {
   "cell_type": "code",
   "execution_count": 2,
   "id": "204d67f5",
   "metadata": {
    "scrolled": true
   },
   "outputs": [
    {
     "ename": "NameError",
     "evalue": "name 'Timer' is not defined",
     "output_type": "error",
     "traceback": [
      "\u001b[1;31m---------------------------------------------------------------------------\u001b[0m",
      "\u001b[1;31mNameError\u001b[0m                                 Traceback (most recent call last)",
      "Cell \u001b[1;32mIn[2], line 1\u001b[0m\n\u001b[1;32m----> 1\u001b[0m timer \u001b[38;5;241m=\u001b[39m \u001b[43mTimer\u001b[49m()\n\u001b[0;32m      2\u001b[0m \u001b[38;5;28;01mfor\u001b[39;00m epoch \u001b[38;5;129;01min\u001b[39;00m \u001b[38;5;28mrange\u001b[39m(\u001b[38;5;241m100\u001b[39m):\n\u001b[0;32m      3\u001b[0m     train_loss\u001b[38;5;241m=\u001b[39m\u001b[38;5;241m0\u001b[39m\n",
      "\u001b[1;31mNameError\u001b[0m: name 'Timer' is not defined"
     ]
    }
   ],
   "source": [
    "timer = Timer()\n",
    "for epoch in range(100):\n",
    "    train_loss=0\n",
    "    train_num=0\n",
    "    print(epoch)\n",
    "    for step,(b_x,b_y) in enumerate(train_loader):\n",
    "        b_x=b_x.cuda()\n",
    "        b_y=b_y.cuda()\n",
    "        output=rg(b_x)\n",
    "        loss=loss_func(output,b_y)\n",
    "        optimizer.zero_grad()\n",
    "        loss.backward()\n",
    "        optimizer.step()\n",
    "        train_loss+=loss.item()*b_x.size(0)\n",
    "        train_num+=b_x.size(0)\n",
    "    scheduler.step()\n",
    "    train_loss_all.append(train_loss/train_num)\n",
    "    testy=rg(test_xt)\n",
    "    testy=testy.cpu()\n",
    "    mae=mean_absolute_error(test_yt.detach().numpy(),testy.detach().numpy())\n",
    "    maslist.append(mae)\n",
    "    plt.plot(train_loss_all,'ro-',label='trainloss')\n",
    "    plt.plot(maslist,'bo-',label='mas')\n",
    "    plt.legend()\n",
    "    plt.grid()\n",
    "    plt.xlabel('epoch',size=13)\n",
    "    plt.ylabel('epoch',size=13)\n",
    "    plt.show()\n",
    "    print(train_loss_all)\n",
    "    print(maslist)\n",
    "f'{timer.stop():.5f} sec'"
   ]
  },
  {
   "cell_type": "code",
   "execution_count": 37,
   "id": "62e39108",
   "metadata": {},
   "outputs": [],
   "source": [
    "torch.save(rg,'J:/quant_trade/modelbase/temp.pt')"
   ]
  },
  {
   "cell_type": "code",
   "execution_count": 39,
   "id": "ae306e88",
   "metadata": {},
   "outputs": [
    {
     "data": {
      "text/plain": [
       "KstestResult(statistic=0.4067610215648784, pvalue=0.0, statistic_location=-0.009776493, statistic_sign=-1)"
      ]
     },
     "execution_count": 39,
     "metadata": {},
     "output_type": "execute_result"
    }
   ],
   "source": [
    "df=pd.DataFrame()\n",
    "df['time']=test['trade_date']\n",
    "df['real']=test_yt\n",
    "df['pre']=testy.detach().numpy()\n",
    "df.set_index('time',inplace=True)\n",
    "scipy.stats.ks_2samp(df['pre'],df['real'])"
   ]
  },
  {
   "cell_type": "code",
   "execution_count": 40,
   "id": "8fb235d3",
   "metadata": {},
   "outputs": [
    {
     "data": {
      "text/plain": [
       "<matplotlib.collections.PathCollection at 0x25d715ec250>"
      ]
     },
     "execution_count": 40,
     "metadata": {},
     "output_type": "execute_result"
    },
    {
     "data": {
      "image/png": "[encoded data removed]",
      "text/plain": [
       "<Figure size 640x480 with 1 Axes>"
      ]
     },
     "metadata": {},
     "output_type": "display_data"
    }
   ],
   "source": [
    "plt.scatter(y=df['real'],x=range(df.shape[0]),color='r')\n",
    "plt.scatter(y=df['pre'],x=range(df.shape[0]),color='b')"
   ]
  },
  {
   "cell_type": "code",
   "execution_count": 41,
   "id": "70fd3071",
   "metadata": {},
   "outputs": [
    {
     "data": {
      "text/plain": [
       "(array([  7338., 105395., 252984., 239894., 133490., 115918.,  69160.,\n",
       "         49358.,  24349.,    543.]),\n",
       " array([-0.01321393, -0.00981349, -0.00641306, -0.00301263,  0.0003878 ,\n",
       "         0.00378824,  0.00718867,  0.0105891 ,  0.01398953,  0.01738997,\n",
       "         0.0207904 ], dtype=float32),\n",
       " <BarContainer object of 10 artists>)"
      ]
     },
     "execution_count": 41,
     "metadata": {},
     "output_type": "execute_result"
    },
    {
     "data": {
      "image/png": "[encoded data removed]",
      "text/plain": [
       "<Figure size 640x480 with 1 Axes>"
      ]
     },
     "metadata": {},
     "output_type": "display_data"
    }
   ],
   "source": [
    "plt.hist(df['real'],color='r')\n",
    "plt.hist(df['pre'],color='b')"
   ]
  },
  {
   "cell_type": "code",
   "execution_count": 1,
   "id": "1f30c16c",
   "metadata": {},
   "outputs": [
    {
     "ename": "NameError",
     "evalue": "name 'df' is not defined",
     "output_type": "error",
     "traceback": [
      "\u001b[1;31m---------------------------------------------------------------------------\u001b[0m",
      "\u001b[1;31mNameError\u001b[0m                                 Traceback (most recent call last)",
      "Cell \u001b[1;32mIn[1], line 1\u001b[0m\n\u001b[1;32m----> 1\u001b[0m \u001b[43mdf\u001b[49m[\u001b[38;5;124m'\u001b[39m\u001b[38;5;124mreal\u001b[39m\u001b[38;5;124m'\u001b[39m]\u001b[38;5;241m.\u001b[39mdescribe()\n",
      "\u001b[1;31mNameError\u001b[0m: name 'df' is not defined"
     ]
    }
   ],
   "source": [
    "df['real'].describe()"
   ]
  },
  {
   "cell_type": "code",
   "execution_count": null,
   "id": "5cca5c36",
   "metadata": {},
   "outputs": [],
   "source": [
    "df[['real','pre']].plot()"
   ]
  }
 ],
 "metadata": {
  "kernelspec": {
   "display_name": "d2l",
   "language": "python",
   "name": "d2l"
  },
  "language_info": {
   "codemirror_mode": {
    "name": "ipython",
    "version": 3
   },
   "file_extension": ".py",
   "mimetype": "text/x-python",
   "name": "python",
   "nbconvert_exporter": "python",
   "pygments_lexer": "ipython3",
   "version": "3.9.16"
  }
 },
 "nbformat": 4,
 "nbformat_minor": 5
}
